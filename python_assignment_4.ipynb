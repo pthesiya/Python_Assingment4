{
 "cells": [
  {
   "cell_type": "markdown",
   "metadata": {
    "id": "ZFsm1QdMO1fm"
   },
   "source": [
    "1.1 Write a Python Program(with class concepts) to find the area of the triangle using the below\n",
    "formula.\n",
    "area = (s*(s-a)*(s-b)*(s-c)) ** 0.5\n",
    "Function to take the length of the sides of triangle from user should be defined in the parent\n",
    "class and function to calculate the area should be defined in subclass."
   ]
  },
  {
   "cell_type": "code",
   "execution_count": 1,
   "metadata": {
    "colab": {
     "base_uri": "https://localhost:8080/"
    },
    "id": "7Z0roYVaO2j2",
    "outputId": "7cbae78f-3f02-4623-b4ea-d15f8345eea2"
   },
   "outputs": [
    {
     "name": "stdout",
     "output_type": "stream",
     "text": [
      "Enter the length of side a :23\n",
      "Enter the length of side b :25\n",
      "Enter the length of side c :34\n"
     ]
    },
    {
     "data": {
      "text/plain": [
       "('Area of the triangle is :', 287.4995652170625)"
      ]
     },
     "execution_count": 1,
     "metadata": {},
     "output_type": "execute_result"
    }
   ],
   "source": [
    "class triangle_sides:\n",
    "  def __init__(self):\n",
    "    \"\"\"function to take triangle side length from user\"\"\"\n",
    "    self.x = float(input(\"Enter the length of side a :\"))\n",
    "    self.y = float(input(\"Enter the length of side b :\"))\n",
    "    self.z = float(input(\"Enter the length of side c :\"))\n",
    "  def __str__(self):\n",
    "    return \"this is a function to find out area of a triangle\"\n",
    "\n",
    "\n",
    "class triangle_area(triangle_sides):\n",
    "  def __init__(self):\n",
    "    super(triangle_area,self).__init__()\n",
    "  def area(self):\n",
    "    \"\"\"This is a function to calculate area of triangle based on user input\"\"\"\n",
    "    self.s = (self.x+self.y+self.z)/2\n",
    "    A = ((self.s*(self.s-self.x)*(self.s-self.y)*(self.s-self.z))**(0.5))\n",
    "    if (self.x+self.y) <= self.z:\n",
    "      print(\"Tringle is not possible based on input parameter\")\n",
    "    else:\n",
    "      return ('Area of the triangle is :',A)\n",
    " \n",
    "\n",
    "p = triangle_area()\n",
    "p.area()"
   ]
  },
  {
   "cell_type": "markdown",
   "metadata": {
    "id": "YuvnoZKtO9kw"
   },
   "source": [
    "351.2 Write a function filter_long_words() that takes a list of words and an integer n and returns\n",
    "the list of words that are longer than n.3"
   ]
  },
  {
   "cell_type": "code",
   "execution_count": 3,
   "metadata": {
    "colab": {
     "base_uri": "https://localhost:8080/"
    },
    "id": "r-8jxot3PAJz",
    "outputId": "0e768e8c-29d3-4839-c4f4-0f85fbdbc39a"
   },
   "outputs": [
    {
     "data": {
      "text/plain": [
       "['piyush', 'pratham', 'rashmi', 'dhyana', 'kirti']"
      ]
     },
     "execution_count": 3,
     "metadata": {},
     "output_type": "execute_result"
    }
   ],
   "source": [
    "def filter_long_words(l,n):\n",
    "  \"\"\"This ia a function to filter out words longer than specific length\"\"\"\n",
    "  l1=[]\n",
    "  for x in l:\n",
    "    if len(x)>n:\n",
    "      l1.append(x)\n",
    "    else:\n",
    "      pass\n",
    "  return l1\n",
    "\n",
    "l=[\"jay\",\"piyush\",\"pratham\",\"rashmi\",\"dhyana\",\"kirti\",\"nij\"]\n",
    "filter_long_words(l,3)\n",
    "\n",
    "\n"
   ]
  },
  {
   "cell_type": "markdown",
   "metadata": {
    "id": "6wr_na92PDGz"
   },
   "source": [
    "2.1 Write a Python program using function concept that maps list of words into a list of integers\n",
    "representing the lengths of the corresponding words.\n",
    "Hint: If a list [ ab,cde,erty] is passed on to the python function output should come as [2,3,4]\n",
    "Here 2,3 and 4 are the lengths of the words in the list."
   ]
  },
  {
   "cell_type": "code",
   "execution_count": 11,
   "metadata": {
    "colab": {
     "base_uri": "https://localhost:8080/"
    },
    "id": "UAmcY-ddPDtC",
    "outputId": "04ceac4e-35fe-473a-d4ba-4d9f5322c90b"
   },
   "outputs": [
    {
     "data": {
      "text/plain": [
       "[3, 6, 7, 6, 6, 5, 3]"
      ]
     },
     "execution_count": 11,
     "metadata": {},
     "output_type": "execute_result"
    }
   ],
   "source": [
    "def length_finder(list):\n",
    "    \"\"\"This is a function which returns a list of lenth of all given candidates as an input\"\"\"\n",
    "    l2=[]\n",
    "    for x in list:\n",
    "     l2.append(len(x))\n",
    "    return l2\n",
    "\n",
    "length_finder(l)"
   ]
  },
  {
   "cell_type": "markdown",
   "metadata": {
    "id": "I9pIH4lQPEch"
   },
   "source": [
    "2.2 Write a Python function which takes a character (i.e. a string of length 1) and returns True if\n",
    "it is a vowel, False otherwise."
   ]
  },
  {
   "cell_type": "code",
   "execution_count": 12,
   "metadata": {
    "colab": {
     "base_uri": "https://localhost:8080/"
    },
    "id": "HpXm-ZW1PGyJ",
    "outputId": "2d350686-dbf0-4aa8-bf53-c9f629612a83"
   },
   "outputs": [
    {
     "name": "stdout",
     "output_type": "stream",
     "text": [
      "Enter any single character to check weather it is vowels or not:e\n",
      "entered character is vowel\n"
     ]
    }
   ],
   "source": [
    "def vowel_finder(a):\n",
    "  \"\"\"This function will return True if given character is vowel\"\"\"\n",
    "  if len(a)>1:\n",
    "    a = input(\"You need to enter only single character to check:\")\n",
    "    vowel_finder(a)\n",
    "  else:\n",
    "      if a in \"aeiouAEIOU\":\n",
    "        print(\"entered character is vowel\")\n",
    "      else:\n",
    "        print(\"entered character is not a vowel\")\n",
    "\n",
    "\n",
    "a = input(\"Enter any single character to check weather it is vowels or not:\")\n",
    "vowel_finder(a)"
   ]
  },
  {
   "cell_type": "code",
   "execution_count": null,
   "metadata": {},
   "outputs": [],
   "source": []
  }
 ],
 "metadata": {
  "colab": {
   "collapsed_sections": [],
   "name": "python assignment 4.ipynb",
   "provenance": []
  },
  "kernelspec": {
   "display_name": "Python 3",
   "language": "python",
   "name": "python3"
  },
  "language_info": {
   "codemirror_mode": {
    "name": "ipython",
    "version": 3
   },
   "file_extension": ".py",
   "mimetype": "text/x-python",
   "name": "python",
   "nbconvert_exporter": "python",
   "pygments_lexer": "ipython3",
   "version": "3.8.8"
  }
 },
 "nbformat": 4,
 "nbformat_minor": 1
}
